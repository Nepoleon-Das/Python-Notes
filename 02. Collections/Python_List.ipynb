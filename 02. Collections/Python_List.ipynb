{
 "cells": [
  {
   "cell_type": "markdown",
   "metadata": {},
   "source": [
    "# Python Data Structure:"
   ]
  },
  {
   "cell_type": "markdown",
   "metadata": {},
   "source": [
    "Four prime collection data types in python:\n",
    "- Lists\n",
    "- Dictionaries\n",
    "- Tuples\n",
    "- Sets"
   ]
  },
  {
   "cell_type": "markdown",
   "metadata": {},
   "source": [
    "### List:\n",
    "- List is a collection which is ordered and mutable/changeable. Allows duplicate members"
   ]
  },
  {
   "cell_type": "code",
   "execution_count": 26,
   "metadata": {},
   "outputs": [
    {
     "data": {
      "text/plain": [
       "list"
      ]
     },
     "execution_count": 26,
     "metadata": {},
     "output_type": "execute_result"
    }
   ],
   "source": [
    "#checking datatype:\n",
    "type([])"
   ]
  },
  {
   "cell_type": "code",
   "execution_count": 27,
   "metadata": {},
   "outputs": [
    {
     "name": "stdout",
     "output_type": "stream",
     "text": [
      "my list is: ['one', 'two', 'three', 'four', 'five']\n",
      "checking datatype: <class 'list'>\n"
     ]
    }
   ],
   "source": [
    "#list declaration and assigning value:\n",
    "my_list = ['one','two','three','four','five']\n",
    "print('my list is: {}'.format(my_list))\n",
    "print('checking datatype: {}'.format(type(my_list)))"
   ]
  },
  {
   "cell_type": "code",
   "execution_count": 28,
   "metadata": {},
   "outputs": [
    {
     "data": {
      "text/plain": [
       "list"
      ]
     },
     "execution_count": 28,
     "metadata": {},
     "output_type": "execute_result"
    }
   ],
   "source": [
    "#assigning one list to another: \n",
    "list1 = list()\n",
    "type(list1)"
   ]
  },
  {
   "cell_type": "code",
   "execution_count": 29,
   "metadata": {},
   "outputs": [
    {
     "data": {
      "text/plain": [
       "5"
      ]
     },
     "execution_count": 29,
     "metadata": {},
     "output_type": "execute_result"
    }
   ],
   "source": [
    "#checking number of elements present:\n",
    "len(my_list)"
   ]
  },
  {
   "cell_type": "markdown",
   "metadata": {},
   "source": [
    "### List Indexing:"
   ]
  },
  {
   "cell_type": "code",
   "execution_count": 30,
   "metadata": {},
   "outputs": [
    {
     "name": "stdout",
     "output_type": "stream",
     "text": [
      "d\n",
      "nepoleon\n",
      "180\n",
      "180.0\n",
      "True\n"
     ]
    }
   ],
   "source": [
    "list1 = ['d','nepoleon',180,180.0,True]\n",
    "print(list1[0])\n",
    "print(list1[1])\n",
    "print(list1[2])\n",
    "print(list1[3])\n",
    "print(list1[4])"
   ]
  },
  {
   "cell_type": "markdown",
   "metadata": {},
   "source": [
    "### Negative Indexing:"
   ]
  },
  {
   "cell_type": "code",
   "execution_count": 31,
   "metadata": {},
   "outputs": [
    {
     "name": "stdout",
     "output_type": "stream",
     "text": [
      "True\n"
     ]
    }
   ],
   "source": [
    "print(list1[-1])"
   ]
  },
  {
   "cell_type": "markdown",
   "metadata": {},
   "source": [
    "### List Slicing:"
   ]
  },
  {
   "cell_type": "code",
   "execution_count": 32,
   "metadata": {},
   "outputs": [
    {
     "name": "stdout",
     "output_type": "stream",
     "text": [
      "['d', 'nepoleon', 180, 180.0, True]\n",
      "['d', 'nepoleon']\n",
      "[180, 180.0, True]\n",
      "['d', 'nepoleon', 180, 180.0]\n"
     ]
    }
   ],
   "source": [
    "print(list1[:])\n",
    "print(list1[:2])\n",
    "print(list1[2:])\n",
    "\n",
    "print(list1[:-1])"
   ]
  },
  {
   "cell_type": "markdown",
   "metadata": {},
   "source": [
    "### Mutating:"
   ]
  },
  {
   "cell_type": "code",
   "execution_count": 33,
   "metadata": {},
   "outputs": [
    {
     "name": "stdout",
     "output_type": "stream",
     "text": [
      "Before Mutating:\n",
      " ['d', 'nepoleon', 180, 180.0, True]\n",
      "-------------------------\n",
      "after Mutating:\n",
      " ['d', 'nepoleon', 180, 180.0, False]\n"
     ]
    }
   ],
   "source": [
    "print('Before Mutating:\\n',list1)\n",
    "print('-------------------------')\n",
    "list1[-1] = False\n",
    "print('after Mutating:\\n',list1)"
   ]
  },
  {
   "cell_type": "markdown",
   "metadata": {},
   "source": [
    "### Loop through List:"
   ]
  },
  {
   "cell_type": "code",
   "execution_count": 34,
   "metadata": {},
   "outputs": [
    {
     "name": "stdout",
     "output_type": "stream",
     "text": [
      "d\n",
      "nepoleon\n",
      "180\n",
      "180.0\n",
      "False\n"
     ]
    }
   ],
   "source": [
    "for x in list1:\n",
    "    print(x)"
   ]
  },
  {
   "cell_type": "markdown",
   "metadata": {},
   "source": [
    "### Check Item Exists:"
   ]
  },
  {
   "cell_type": "code",
   "execution_count": 35,
   "metadata": {},
   "outputs": [
    {
     "name": "stdout",
     "output_type": "stream",
     "text": [
      "element present in list\n"
     ]
    }
   ],
   "source": [
    "if 'nepoleon' in list1:\n",
    "    print('element present in list')"
   ]
  },
  {
   "cell_type": "markdown",
   "metadata": {},
   "source": [
    "### Adding Items:"
   ]
  },
  {
   "cell_type": "markdown",
   "metadata": {},
   "source": [
    "#### Append()\n",
    "- append adds new elements to the end of the data structure\n",
    "- appends work good for single item assignment, but if multiple elements are added then creates a nested list"
   ]
  },
  {
   "cell_type": "code",
   "execution_count": 36,
   "metadata": {},
   "outputs": [
    {
     "data": {
      "text/plain": [
       "[1, 2, 3, 4, 'nepolean']"
      ]
     },
     "execution_count": 36,
     "metadata": {},
     "output_type": "execute_result"
    }
   ],
   "source": [
    "list_apd = [1,2,3,4]\n",
    "list_apd.append('nepolean')\n",
    "list_apd"
   ]
  },
  {
   "cell_type": "code",
   "execution_count": 37,
   "metadata": {},
   "outputs": [
    {
     "data": {
      "text/plain": [
       "[1, 2, 3, 4, 'nepolean', [0, 1, 8]]"
      ]
     },
     "execution_count": 37,
     "metadata": {},
     "output_type": "execute_result"
    }
   ],
   "source": [
    "list_apd.append([0,1,8])\n",
    "list_apd"
   ]
  },
  {
   "cell_type": "markdown",
   "metadata": {},
   "source": [
    "#### Insert()\n",
    "- insert element into a specific position"
   ]
  },
  {
   "cell_type": "code",
   "execution_count": 38,
   "metadata": {},
   "outputs": [
    {
     "data": {
      "text/plain": [
       "[0, 1, 8, 'nepolean']"
      ]
     },
     "execution_count": 38,
     "metadata": {},
     "output_type": "execute_result"
    }
   ],
   "source": [
    "list_inst = [0,1,8,]\n",
    "list_inst.insert(3,'nepolean')\n",
    "\n",
    "list_inst"
   ]
  },
  {
   "cell_type": "markdown",
   "metadata": {},
   "source": [
    "#### Extend()\n",
    "- it seggregates the the string into individuals alphabets\n",
    "- it adds list elements and donot create any nested list\n",
    "- since string is itself a list, don't requires any square bracket"
   ]
  },
  {
   "cell_type": "code",
   "execution_count": 39,
   "metadata": {},
   "outputs": [
    {
     "data": {
      "text/plain": [
       "[1, 0, 8, 'nepoleon', 'das']"
      ]
     },
     "execution_count": 39,
     "metadata": {},
     "output_type": "execute_result"
    }
   ],
   "source": [
    "list_ext = [1,0]\n",
    "list_ext.extend([8,'nepoleon','das'])\n",
    "\n",
    "list_ext"
   ]
  },
  {
   "cell_type": "markdown",
   "metadata": {},
   "source": [
    "### Remove Item:"
   ]
  },
  {
   "cell_type": "code",
   "execution_count": 40,
   "metadata": {},
   "outputs": [
    {
     "data": {
      "text/plain": [
       "[9, 23, 3, 14, 5]"
      ]
     },
     "execution_count": 40,
     "metadata": {},
     "output_type": "execute_result"
    }
   ],
   "source": [
    "list2 = [9,23,3,14,5]\n",
    "list2"
   ]
  },
  {
   "cell_type": "code",
   "execution_count": 41,
   "metadata": {},
   "outputs": [],
   "source": [
    "list2.remove(3)"
   ]
  },
  {
   "cell_type": "code",
   "execution_count": 42,
   "metadata": {},
   "outputs": [
    {
     "data": {
      "text/plain": [
       "[9, 23, 14, 5]"
      ]
     },
     "execution_count": 42,
     "metadata": {},
     "output_type": "execute_result"
    }
   ],
   "source": [
    "list2"
   ]
  },
  {
   "cell_type": "code",
   "execution_count": 43,
   "metadata": {},
   "outputs": [
    {
     "data": {
      "text/plain": [
       "[9, 23, 5]"
      ]
     },
     "execution_count": 43,
     "metadata": {},
     "output_type": "execute_result"
    }
   ],
   "source": [
    "list2.pop(2)\n",
    "list2"
   ]
  },
  {
   "cell_type": "markdown",
   "metadata": {},
   "source": [
    "### Copy a List:"
   ]
  },
  {
   "cell_type": "code",
   "execution_count": 44,
   "metadata": {},
   "outputs": [
    {
     "data": {
      "text/plain": [
       "['d', 'nepoleon', 180, 180.0, False]"
      ]
     },
     "execution_count": 44,
     "metadata": {},
     "output_type": "execute_result"
    }
   ],
   "source": [
    "list3 = list1.copy()\n",
    "list3"
   ]
  },
  {
   "cell_type": "markdown",
   "metadata": {},
   "source": [
    "### Join Two Lists:"
   ]
  },
  {
   "cell_type": "code",
   "execution_count": 45,
   "metadata": {},
   "outputs": [
    {
     "data": {
      "text/plain": [
       "[1, 2, 3, 4, 'nepolean', 5, 6, 7, 8, 'das']"
      ]
     },
     "execution_count": 45,
     "metadata": {},
     "output_type": "execute_result"
    }
   ],
   "source": [
    "list_1 = [1,2,3,4,'nepolean']\n",
    "list_2 = [5,6,7,8,'das']\n",
    "list_3 = list_1+list_2\n",
    "list_3"
   ]
  },
  {
   "cell_type": "code",
   "execution_count": 46,
   "metadata": {},
   "outputs": [
    {
     "name": "stdout",
     "output_type": "stream",
     "text": [
      "[1, 2, 3, 4, 'nepolean', 5, 6, 7, 8, 'das']\n"
     ]
    }
   ],
   "source": [
    "for x in list_2:\n",
    "    list_1.append(x)\n",
    "print(list_1)    "
   ]
  },
  {
   "cell_type": "code",
   "execution_count": 47,
   "metadata": {},
   "outputs": [
    {
     "name": "stdout",
     "output_type": "stream",
     "text": [
      "[1, 2, 3, 4, 'nepolean', 5, 6, 7, 8, 'das', 5, 6, 7, 8, 'das']\n"
     ]
    }
   ],
   "source": [
    "list_1.extend(list_2)\n",
    "print(list_1)"
   ]
  },
  {
   "cell_type": "markdown",
   "metadata": {},
   "source": [
    "### List Methods"
   ]
  },
  {
   "cell_type": "code",
   "execution_count": 59,
   "metadata": {},
   "outputs": [
    {
     "name": "stdout",
     "output_type": "stream",
     "text": [
      "list_4: [1, 2, 3, 4, 5, 6]\n",
      "--------------------------------------------------\n",
      "list_4 is cleared\n",
      "--------------------------------------------------\n",
      "new list_4 is: [34, 56, 12, 78, 102]\n",
      "--------------------------------------------------\n",
      "no. of occurance: 0\n",
      "--------------------------------------------------\n",
      "element 12 is present at 2 position\n",
      "--------------------------------------------------\n",
      "list_4 in sorted order: [12, 34, 56, 78, 102]\n",
      "--------------------------------------------------\n",
      "list_4 in reverse order: [102, 78, 56, 34, 12]\n",
      "--------------------------------------------------\n"
     ]
    }
   ],
   "source": [
    "#extend()- adding multiple elements\n",
    "list_4 = []\n",
    "list_4.extend([1,2,3,4,5,6])\n",
    "print('list_4: {}'.format(list_4))\n",
    "print('--------------------------------------------------')\n",
    "\n",
    "#clear()- remove all element from the list\n",
    "list_4.clear()\n",
    "print('list_4 is cleared')\n",
    "print('--------------------------------------------------')\n",
    "\n",
    "#copy()- return a copy of the list\n",
    "new_list = [34, 56, 12, 78, 102]\n",
    "list_4 = new_list.copy()\n",
    "print('new list_4 is: {}'.format(list_4))\n",
    "print('--------------------------------------------------')\n",
    "\n",
    "#count()- \n",
    "print('no. of occurance: {}'.format(list_4.count(8)))\n",
    "print('--------------------------------------------------')\n",
    "\n",
    "#index()\n",
    "print('element {} is present at {} position'.format(12,list_4.index(12)))\n",
    "print('--------------------------------------------------')\n",
    "\n",
    "#sort()\n",
    "list_4.sort()\n",
    "print('list_4 in sorted order: {}'.format(list_4))\n",
    "print('--------------------------------------------------')\n",
    "\n",
    "#reverse()\n",
    "list_4.reverse()\n",
    "print('list_4 in reverse order: {}'.format(list_4))\n",
    "print('--------------------------------------------------')\n"
   ]
  },
  {
   "cell_type": "code",
   "execution_count": null,
   "metadata": {},
   "outputs": [],
   "source": []
  }
 ],
 "metadata": {
  "kernelspec": {
   "display_name": "Python 3",
   "language": "python",
   "name": "python3"
  },
  "language_info": {
   "codemirror_mode": {
    "name": "ipython",
    "version": 3
   },
   "file_extension": ".py",
   "mimetype": "text/x-python",
   "name": "python",
   "nbconvert_exporter": "python",
   "pygments_lexer": "ipython3",
   "version": "3.7.4"
  }
 },
 "nbformat": 4,
 "nbformat_minor": 4
}
