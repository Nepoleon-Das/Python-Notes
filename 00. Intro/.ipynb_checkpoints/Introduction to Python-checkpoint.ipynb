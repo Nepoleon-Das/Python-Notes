{
 "cells": [
  {
   "cell_type": "markdown",
   "metadata": {},
   "source": [
    "## What is Python ?\n",
    "\n",
    "- Python is a popular scripting language which was created by Guido van Rossum in 1991.\n",
    "- It is used for:\n",
    "> web development, \n",
    "> web scraping, \n",
    "> machine learning, etc"
   ]
  },
  {
   "cell_type": "markdown",
   "metadata": {},
   "source": [
    "## Why Python ?\n",
    "\n",
    "- Python works on different platforms (Windows, Mac, Linux, Raspberry Pi, etc).\n",
    "- Python has a simple syntax similar to the English language.\n",
    "- Python has fewer lines to execute than other languages.\n",
    "- Python runs on an interpreter system, meaning that code can be executed as soon as it is written. prototyping can be very quick."
   ]
  },
  {
   "cell_type": "markdown",
   "metadata": {},
   "source": [
    "## Check Python:\n",
    "\n",
    "- check whether python is properly installed -\n",
    "> C:\\Users\\name\\python --version\n",
    "\n",
    "- run python code by creating a .py file -\n",
    "> C:\\Users\\name\\python python-check.py\n",
    "\n",
    "- execute python command line directly from cmd -\n",
    "> C:\\Users\\name\\python >>> print('hello world')\n"
   ]
  },
  {
   "cell_type": "markdown",
   "metadata": {},
   "source": [
    "## Python Indentation:"
   ]
  },
  {
   "cell_type": "code",
   "execution_count": 2,
   "metadata": {},
   "outputs": [
    {
     "ename": "IndentationError",
     "evalue": "expected an indented block (<ipython-input-2-4f1961a59c4c>, line 2)",
     "output_type": "error",
     "traceback": [
      "\u001b[1;36m  File \u001b[1;32m\"<ipython-input-2-4f1961a59c4c>\"\u001b[1;36m, line \u001b[1;32m2\u001b[0m\n\u001b[1;33m    print('greater')\u001b[0m\n\u001b[1;37m        ^\u001b[0m\n\u001b[1;31mIndentationError\u001b[0m\u001b[1;31m:\u001b[0m expected an indented block\n"
     ]
    }
   ],
   "source": [
    "if 5 > 2:\n",
    "print('greater')"
   ]
  },
  {
   "cell_type": "code",
   "execution_count": 3,
   "metadata": {},
   "outputs": [
    {
     "name": "stdout",
     "output_type": "stream",
     "text": [
      "greater\n"
     ]
    }
   ],
   "source": [
    "if 5 > 2:\n",
    "    print('greater')"
   ]
  },
  {
   "cell_type": "code",
   "execution_count": 4,
   "metadata": {},
   "outputs": [
    {
     "name": "stdout",
     "output_type": "stream",
     "text": [
      "9 is present\n"
     ]
    }
   ],
   "source": [
    "for i in range(0,10):\n",
    "    if(i==9):\n",
    "        print('9 is present')"
   ]
  },
  {
   "cell_type": "markdown",
   "metadata": {},
   "source": [
    "## Comments:"
   ]
  },
  {
   "cell_type": "code",
   "execution_count": 3,
   "metadata": {},
   "outputs": [
    {
     "data": {
      "text/plain": [
       "' \\n this can also be done using generally known as docstring\\n'"
      ]
     },
     "execution_count": 3,
     "metadata": {},
     "output_type": "execute_result"
    }
   ],
   "source": [
    "# anthing written in the hash sign will be treated as comment and will not be executed as code\n",
    "\n",
    "''' \n",
    " this can also be done using generally known as docstring\n",
    "'''"
   ]
  },
  {
   "cell_type": "markdown",
   "metadata": {},
   "source": [
    "### ---------------- Thank You -----------------------------------"
   ]
  },
  {
   "cell_type": "code",
   "execution_count": null,
   "metadata": {},
   "outputs": [],
   "source": []
  }
 ],
 "metadata": {
  "kernelspec": {
   "display_name": "Python 3",
   "language": "python",
   "name": "python3"
  },
  "language_info": {
   "codemirror_mode": {
    "name": "ipython",
    "version": 3
   },
   "file_extension": ".py",
   "mimetype": "text/x-python",
   "name": "python",
   "nbconvert_exporter": "python",
   "pygments_lexer": "ipython3",
   "version": "3.7.4"
  }
 },
 "nbformat": 4,
 "nbformat_minor": 4
}
